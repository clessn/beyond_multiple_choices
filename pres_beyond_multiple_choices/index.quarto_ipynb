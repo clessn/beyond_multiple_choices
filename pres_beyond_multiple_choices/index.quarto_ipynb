{
  "cells": [
    {
      "cell_type": "markdown",
      "metadata": {},
      "source": [
        "---\n",
        "title: Beyond Multiple Choices\n",
        "subtitle: Capturing Nuanced Public Opinion with Large Language Models\n",
        "author: Laurence-Olivier M. Foisy<br>Hubert Cadieux<br>Étienne Proulx<br>Yannick Dufresne\n",
        "institute: Université Laval\n",
        "format:\n",
        "  revealjs:\n",
        "    theme: night\n",
        "    logo: images/ul_logo.png\n",
        "    footer: \"Beyond Multiple Choices\"\n",
        "---\n",
        "\n",
        "\n",
        "\n",
        "## Can open-source language models be trusted to reliably clean and analyze open-ended survey questions?{.center}\n",
        "\n",
        "\n",
        "```{css}\n",
        ".center h2 {\n",
        "  text-align: center;\n",
        "}\n",
        "```"
      ],
      "id": "a929092d"
    }
  ],
  "metadata": {
    "kernelspec": {
      "display_name": "Python 3",
      "language": "python",
      "name": "python3"
    }
  },
  "nbformat": 4,
  "nbformat_minor": 5
}